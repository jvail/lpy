{
 "cells": [
  {
   "cell_type": "code",
   "execution_count": 2,
   "metadata": {},
   "outputs": [],
   "source": [
    "from pgljupyter import *"
   ]
  },
  {
   "cell_type": "markdown",
   "metadata": {},
   "source": [
    "# start from an axiom representing a triangle with equal side lengths\n",
    "\n",
    "INRIA - CIRAD Virtual Plants, C. Godin, F. Boudon"
   ]
  },
  {
   "cell_type": "code",
   "execution_count": null,
   "metadata": {},
   "outputs": [],
   "source": [
    "%%lpy -u dm\n",
    "# 01-equilat-triangle\n",
    "\n",
    "derivation length: 0\n",
    "\n",
    "Axiom: -(30)F(1)-(120)F(1)-(120)F(1)"
   ]
  },
  {
   "cell_type": "code",
   "execution_count": null,
   "metadata": {},
   "outputs": [],
   "source": [
    "%%lpy -u mm\n",
    "\n",
    "# 02-circle\n",
    "\n",
    "r = 1.\n",
    "N = 100\n",
    "\n",
    "dalpha = 360./N\n",
    "dl = dalpha*r\n",
    "\n",
    "Axiom: C(N)\n",
    "\n",
    "derivation length: 1\n",
    "\n",
    "production:\n",
    "\n",
    "decomposition:\n",
    "maximum depth: N\n",
    "\n",
    "C(n): \n",
    "  if n >= 0 : produce S(dl)C(n-1)\n",
    "\n",
    "homomorphism:\n",
    "\n",
    "S(dl) : produce _(2)-(dalpha)F(dl)\n",
    "\n",
    "endlsystem"
   ]
  },
  {
   "cell_type": "code",
   "execution_count": null,
   "metadata": {},
   "outputs": [],
   "source": [
    "%%lpy -u dm\n",
    "\n",
    "# 02b-subdivision-circle\n",
    "\n",
    "from math import *\n",
    "\n",
    "il = 10.\n",
    "rl = 0.5\n",
    "#rl = 1./(sqrt(2)+1)\n",
    "print (rl)\n",
    "assert 0 < rl < 1\n",
    "\n",
    "Axiom: F(il/2)+(90.)F(il/2)F(il/2)+(90.)F(il/2)F(il/2)+(90.)F(il/2)F(il/2)+(90.)F(il/2)\n",
    "\n",
    "derivation length: 10\n",
    "production:\n",
    "\n",
    "F(x)+(a)F(y) :\n",
    "\t#assert abs(x-y) < 1e-5\n",
    "\tv1 = (1-rl)*sqrt(x**2+y**2)/2.\n",
    "\t#assert abs(x*rl-v1) < 1e-5\n",
    "\tproduce F(x*rl)+(a/2)F(v1)F(v1)+(a/2)F(y*rl)\n",
    "\n",
    "homomorphism:\n",
    "\n",
    "\n",
    "endlsystem"
   ]
  },
  {
   "cell_type": "code",
   "execution_count": null,
   "metadata": {},
   "outputs": [],
   "source": [
    "%%lpy\n",
    "\n",
    "# 03-koch-curve\n",
    "\n",
    "Axiom: _(0.001)-(90)F(1)\n",
    "derivation length: 5\n",
    "\n",
    "production: \n",
    "\n",
    "F(x) :\n",
    "  produce  F(x/3.0)+F(x/3.0)--F(x/3.0)+F(x/3.0)\n",
    "\n",
    "\n",
    "endlsystem"
   ]
  },
  {
   "cell_type": "code",
   "execution_count": null,
   "metadata": {},
   "outputs": [],
   "source": [
    "%%lpy -u dm\n",
    "\n",
    "# 04-sierpinski\n",
    "\n",
    "Axiom: -(90)L(1.0)\n",
    "\n",
    "derivation length: 5\n",
    "\n",
    "production:\n",
    "\n",
    "L(x):\n",
    "  produce +(60)R(x/2)-(60)L(x/2)-(60)R(x/2)+(60)\n",
    "R(x):\n",
    "  produce -(60)L(x/2)+(60)R(x/2)+(60)L(x/2)-(60)\n",
    "\n",
    "homomorphism:\n",
    "\n",
    "R(x): # To have a right triangle that has the same normal orientation as L(x)\n",
    "  produce [{-(60)F(x)+(120)F(x)}]f(x)\n",
    "\n",
    "L(x):\n",
    "  produce [{F(x)+(120)F(x)}]f(x)\n",
    "\n",
    "endlsystem\n"
   ]
  },
  {
   "cell_type": "code",
   "execution_count": 53,
   "metadata": {},
   "outputs": [
    {
     "data": {
      "application/vnd.jupyter.widget-view+json": {
       "model_id": "7cb451f605334d69b6417f3cb899eaf2",
       "version_major": 2,
       "version_minor": 0
      },
      "text/plain": [
       "LsystemWidget(derivationLength=11, is_magic=True, scene={'data': b'x\\xdaSLrw\\xf5\\xf7e`Pp\\xe0\\xe5RPVVd\\x00\\x020…"
      ]
     },
     "metadata": {},
     "output_type": "display_data"
    }
   ],
   "source": [
    "%%lpy -u dm\n",
    "\n",
    "\n",
    "# 05-simple-sympodial-plant\n",
    "\n",
    "def alpha(x):\n",
    "  return 30  # try other decreasing functions ex: 30-10*x \n",
    "\n",
    "def long(x):\n",
    "  return x/3.5   # try other decreasing functions ex: 50/(x*x) ;  \n",
    "\n",
    "\n",
    "Axiom: A(1)\n",
    "\n",
    "production:\n",
    "\n",
    "derivation length: 10\n",
    "\n",
    "A(n) :\n",
    "    produce F(long(n))[\\(30)+(alpha(n))A(n+1)] [\\(-30)-(alpha(n))A(n+1)]F(0.2);(n if n < 15 else 1)@o(0.4)\n",
    "\n",
    "endlsystem"
   ]
  },
  {
   "cell_type": "code",
   "execution_count": null,
   "metadata": {},
   "outputs": [],
   "source": [
    "%%lpy -u cm\n",
    "\n",
    "# 06a-simple-differentiation\n",
    "\n",
    "CYCLENB = 10  # Try 11, 12 \n",
    "ADVANCE  = 3   # Lateral meristems get older more rapidly than main axis (try 1, 3) \n",
    "\n",
    "\n",
    "Axiom:  _(1)A(0)\n",
    "\n",
    "derivation length: 8\n",
    "production: \n",
    "\n",
    "A(n) :\n",
    "  if n<CYCLENB  : produce  I(n)[P(n)A(n+ADVANCE)]A(n+1)\n",
    "  else : produce  B\n",
    "\n",
    "homomorphism:\n",
    "\n",
    "I(n) :\n",
    "  produce ;(1)F(CYCLENB-n)\n",
    "\n",
    "P(n) :\n",
    "  if n%2 == 0 : produce  +\n",
    "  else: produce -\n",
    "A(n):\n",
    "  produce ;(0)@c(1)\n",
    "B :\n",
    "  produce F(1);(2)@O(2)\n",
    "\n",
    "endlsystem"
   ]
  },
  {
   "cell_type": "code",
   "execution_count": 6,
   "metadata": {},
   "outputs": [
    {
     "data": {
      "application/vnd.jupyter.widget-view+json": {
       "model_id": "6681082148fd4b3b8fb6b1bc55b968c2",
       "version_major": 2,
       "version_minor": 0
      },
      "text/plain": [
       "LsystemWidget(derivationLength=71, scene={'data': b'x\\xdaSLrw\\xf5\\xf7e`Pp\\xe0\\xe5RPVVdg```be\\x08\\xceH,H\\x05\\xb…"
      ]
     },
     "metadata": {},
     "output_type": "display_data"
    }
   ],
   "source": [
    "LsystemWidget('06b-dev-inflo-archi', unit='cm')"
   ]
  },
  {
   "cell_type": "code",
   "execution_count": null,
   "metadata": {},
   "outputs": [],
   "source": [
    "LsystemWidget('06b-dev-inflo-archi', unit='cm')"
   ]
  }
 ],
 "metadata": {
  "kernelspec": {
   "display_name": "Python 3",
   "language": "python",
   "name": "python3"
  },
  "language_info": {
   "codemirror_mode": {
    "name": "ipython",
    "version": 3
   },
   "file_extension": ".py",
   "mimetype": "text/x-python",
   "name": "python",
   "nbconvert_exporter": "python",
   "pygments_lexer": "ipython3",
   "version": "3.8.5"
  }
 },
 "nbformat": 4,
 "nbformat_minor": 4
}
