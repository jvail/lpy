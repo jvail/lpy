{
 "cells": [
  {
   "cell_type": "code",
   "execution_count": 1,
   "metadata": {},
   "outputs": [],
   "source": [
    "from pgljupyter import *\n",
    "from ipywidgets import Dropdown, Output\n",
    "import os"
   ]
  },
  {
   "cell_type": "code",
   "execution_count": 2,
   "metadata": {},
   "outputs": [
    {
     "data": {
      "application/vnd.jupyter.widget-view+json": {
       "model_id": "4b58500fda284a6a85b258857fa947e9",
       "version_major": 2,
       "version_minor": 0
      },
      "text/plain": [
       "Dropdown(options=('ex_lsystem1.lpy', 'ex_lsystem4.lpy', 'ex_pglsymbol.lpy', 'ex_lsystem7.lpy', 'ex_vonkoch.lpy…"
      ]
     },
     "metadata": {},
     "output_type": "display_data"
    }
   ],
   "source": [
    "from os import listdir\n",
    "from os.path import isfile, join\n",
    "def on_change(change):\n",
    "    with out:\n",
    "        out.clear_output()\n",
    "        file = change['new']\n",
    "        display(LsystemWidget(file))\n",
    "out = Output()\n",
    "dd = Dropdown(options=[f for f in listdir(os.getcwd()) if isfile(join(os.getcwd(), f)) and f.endswith('.lpy')])\n",
    "dd.observe(on_change, names='value')\n",
    "with out:\n",
    "    display(LsystemWidget(dd.options[0]))\n",
    "dd"
   ]
  },
  {
   "cell_type": "code",
   "execution_count": 3,
   "metadata": {},
   "outputs": [
    {
     "data": {
      "application/vnd.jupyter.widget-view+json": {
       "model_id": "e355f9c758ab466b8e89e4be436f98c6",
       "version_major": 2,
       "version_minor": 0
      },
      "text/plain": [
       "Output(outputs=({'output_type': 'display_data', 'data': {'text/plain': \"LsystemWidget(derivationLength=91, sce…"
      ]
     },
     "metadata": {},
     "output_type": "display_data"
    }
   ],
   "source": [
    "out"
   ]
  },
  {
   "cell_type": "code",
   "execution_count": null,
   "metadata": {},
   "outputs": [],
   "source": []
  }
 ],
 "metadata": {
  "kernelspec": {
   "display_name": "Python 3",
   "language": "python",
   "name": "python3"
  },
  "language_info": {
   "codemirror_mode": {
    "name": "ipython",
    "version": 3
   },
   "file_extension": ".py",
   "mimetype": "text/x-python",
   "name": "python",
   "nbconvert_exporter": "python",
   "pygments_lexer": "ipython3",
   "version": "3.8.5"
  }
 },
 "nbformat": 4,
 "nbformat_minor": 4
}
