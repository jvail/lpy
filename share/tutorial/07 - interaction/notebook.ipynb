{
 "cells": [
  {
   "cell_type": "code",
   "execution_count": 4,
   "metadata": {},
   "outputs": [],
   "source": [
    "from pgljupyter import *\n",
    "from ipywidgets import Dropdown, Output\n",
    "import os"
   ]
  },
  {
   "cell_type": "code",
   "execution_count": 5,
   "metadata": {},
   "outputs": [
    {
     "data": {
      "application/vnd.jupyter.widget-view+json": {
       "model_id": "91425648565b47f883ccf264bbb488a0",
       "version_major": 2,
       "version_minor": 0
      },
      "text/plain": [
       "Dropdown(options=('selectandpaint.lpy',), value='selectandpaint.lpy')"
      ]
     },
     "metadata": {},
     "output_type": "display_data"
    }
   ],
   "source": [
    "from os import listdir\n",
    "from os.path import isfile, join\n",
    "def on_change(change):\n",
    "    with out:\n",
    "        out.clear_output()\n",
    "        file = change['new']\n",
    "        display(LsystemWidget(file))\n",
    "out = Output()\n",
    "dd = Dropdown(options=[f for f in listdir(os.getcwd()) if isfile(join(os.getcwd(), f)) and f.endswith('.lpy')])\n",
    "dd.observe(on_change, names='value')\n",
    "with out:\n",
    "    display(LsystemWidget(dd.options[0]))\n",
    "dd"
   ]
  },
  {
   "cell_type": "code",
   "execution_count": 6,
   "metadata": {},
   "outputs": [
    {
     "data": {
      "application/vnd.jupyter.widget-view+json": {
       "model_id": "563c3a80d0a8482790d0ed7bc2007543",
       "version_major": 2,
       "version_minor": 0
      },
      "text/plain": [
       "Output(outputs=({'traceback': ['\\x1b[0;36m  File \\x1b[0;32m\"<string>\"\\x1b[0;36m, line \\x1b[0;32m6\\x1b[0m\\n\\x1b…"
      ]
     },
     "metadata": {},
     "output_type": "display_data"
    }
   ],
   "source": [
    "out"
   ]
  },
  {
   "cell_type": "code",
   "execution_count": null,
   "metadata": {},
   "outputs": [],
   "source": []
  }
 ],
 "metadata": {
  "kernelspec": {
   "display_name": "Python 3",
   "language": "python",
   "name": "python3"
  },
  "language_info": {
   "codemirror_mode": {
    "name": "ipython",
    "version": 3
   },
   "file_extension": ".py",
   "mimetype": "text/x-python",
   "name": "python",
   "nbconvert_exporter": "python",
   "pygments_lexer": "ipython3",
   "version": "3.8.5"
  }
 },
 "nbformat": 4,
 "nbformat_minor": 4
}
